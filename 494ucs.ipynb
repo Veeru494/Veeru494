{
 "cells": [
  {
   "cell_type": "code",
   "execution_count": 57,
   "id": "eb38613c-50d8-49d8-8426-b9ac8f6dca67",
   "metadata": {},
   "outputs": [],
   "source": [
    "import heapq"
   ]
  },
  {
   "cell_type": "code",
   "execution_count": 81,
   "id": "c70b9aa5-1034-49c9-ade9-7fa3d3c3c69f",
   "metadata": {},
   "outputs": [
    {
     "name": "stdout",
     "output_type": "stream",
     "text": [
      "Least-cost path fromAtoZ:['A', 'C', 'D', 'E', 'Z']\n",
      "Total cost:17\n"
     ]
    }
   ],
   "source": [
    "def unifrom_cost_search(graph,start,goal):\n",
    "    priority_queue=[(0,start,[])]\n",
    "    visited =set()\n",
    "    while priority_queue:\n",
    "        cost,node,path=heapq.heappop( priority_queue)\n",
    "        if node in visited:\n",
    "            continue\n",
    "        path=path+[node]\n",
    "        visited.add(node)\n",
    "        if node == goal:\n",
    "             return cost,path\n",
    "            \n",
    "        for neighbor,edge_cost in graph.get(node,[]):\n",
    "             if neighbor not in visited:\n",
    "                   heapq.heappush(priority_queue,(cost+edge_cost,neighor,path))\n",
    "   \n",
    "    return float('inf'), []\n",
    "graph={\n",
    "    'A':[('B',4),('C',3)],\n",
    "    'B':[('F',5),('E',12)],\n",
    "    'C':[('E',10),('D',7)],\n",
    "    'D':[('E',2)],\n",
    "    'E':[('Z',5)],\n",
    "    'F':[('Z',16)]\n",
    "}      \n",
    "start_node='A'\n",
    "goal_node='Z'\n",
    "cost, path = uniform_cost_search(graph, start_node, goal_node)\n",
    "print(f\"Least-cost path from{start_node}to{goal_node}:{path}\")\n",
    "print(f\"Total cost:{cost}\")"
   ]
  },
  {
   "cell_type": "code",
   "execution_count": 83,
   "id": "299e1e18-112d-4359-b81b-1e98a77a82e3",
   "metadata": {},
   "outputs": [
    {
     "name": "stdout",
     "output_type": "stream",
     "text": [
      "Least-cost path fromAtoG:['A', 'D', 'G']\n",
      "Total cost:5\n"
     ]
    }
   ],
   "source": [
    "def unifrom_cost_search(graph,start,goal):\n",
    "    priority_queue=[(0,start,[])]\n",
    "    visited =set()\n",
    "    while priority_queue:\n",
    "        cost,node,path=heapq.heappop( priority_queue)\n",
    "        if node in visited:\n",
    "            continue\n",
    "        path=path+[node]\n",
    "        visited.add(node)\n",
    "        if node == goal:\n",
    "             return cost,path\n",
    "            \n",
    "        for neighbor,edge_cost in graph.get(node,[]):\n",
    "             if neighbor not in visited:\n",
    "                   heapq.heappush(priority_queue,(cost+edge_cost,neighor,path))\n",
    "   \n",
    "    return float('inf'), []\n",
    "graph={\n",
    "    'A':[('B',2),('D',3)],\n",
    "    'B':[('E',5),('G',5)],\n",
    "    'D':[('B',1),('G',2),('F',6)],\n",
    "    \n",
    "}      \n",
    "start_node='A'\n",
    "goal_node='G'\n",
    "cost, path = uniform_cost_search(graph, start_node, goal_node)\n",
    "print(f\"Least-cost path from{start_node}to{goal_node}:{path}\")\n",
    "print(f\"Total cost:{cost}\")"
   ]
  },
  {
   "cell_type": "code",
   "execution_count": 85,
   "id": "362bc0cf-2468-42ed-970a-a595d80c00f5",
   "metadata": {},
   "outputs": [
    {
     "name": "stdout",
     "output_type": "stream",
     "text": [
      "Least-cost path fromAtoE:['A', 'B', 'E']\n",
      "Total cost:7\n"
     ]
    }
   ],
   "source": [
    "def unifrom_cost_search(graph,start,goal):\n",
    "    priority_queue=[(0,start,[])]\n",
    "    visited =set()\n",
    "    while priority_queue:\n",
    "        cost,node,path=heapq.heappop( priority_queue)\n",
    "        if node in visited:\n",
    "            continue\n",
    "        path=path+[node]\n",
    "        visited.add(node)\n",
    "        if node == goal:\n",
    "             return cost,path\n",
    "            \n",
    "        for neighbor,edge_cost in graph.get(node,[]):\n",
    "             if neighbor not in visited:\n",
    "                   heapq.heappush(priority_queue,(cost+edge_cost,neighor,path))\n",
    "   \n",
    "    return float('inf'), []\n",
    "graph={\n",
    "    'A':[('B',2),('D',3)],\n",
    "    'B':[('E',5),('G',5)],\n",
    "    'D':[('B',1),('G',2),('F',6)],\n",
    "    \n",
    "}      \n",
    "start_node='A'\n",
    "goal_node='E'\n",
    "cost, path = uniform_cost_search(graph, start_node, goal_node)\n",
    "print(f\"Least-cost path from{start_node}to{goal_node}:{path}\")\n",
    "print(f\"Total cost:{cost}\")"
   ]
  },
  {
   "cell_type": "code",
   "execution_count": null,
   "id": "187e3738-02b3-4a6c-bad2-e00a189b5aa7",
   "metadata": {},
   "outputs": [],
   "source": []
  }
 ],
 "metadata": {
  "kernelspec": {
   "display_name": "Python 3 (ipykernel)",
   "language": "python",
   "name": "python3"
  },
  "language_info": {
   "codemirror_mode": {
    "name": "ipython",
    "version": 3
   },
   "file_extension": ".py",
   "mimetype": "text/x-python",
   "name": "python",
   "nbconvert_exporter": "python",
   "pygments_lexer": "ipython3",
   "version": "3.12.7"
  }
 },
 "nbformat": 4,
 "nbformat_minor": 5
}

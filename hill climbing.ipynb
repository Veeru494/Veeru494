{
 "cells": [
  {
   "cell_type": "code",
   "execution_count": null,
   "id": "2ada5a63-b053-4f97-9a3d-25216db210b8",
   "metadata": {},
   "outputs": [],
   "source": []
  },
  {
   "cell_type": "code",
   "execution_count": null,
   "id": "19ab5310-bbb1-4bc2-ac8e-fa994c544374",
   "metadata": {},
   "outputs": [],
   "source": []
  },
  {
   "cell_type": "code",
   "execution_count": null,
   "id": "66ca334c-8808-4043-8c98-94d1e81a5edf",
   "metadata": {},
   "outputs": [],
   "source": []
  },
  {
   "cell_type": "code",
   "execution_count": 3,
   "id": "7b5bb85b-fb45-44e7-9195-0e98884bc14a",
   "metadata": {},
   "outputs": [
    {
     "name": "stdout",
     "output_type": "stream",
     "text": [
      "Optimal x: 2.022779660096158\n",
      "Maximum value of f(x): 3.999481087085903\n"
     ]
    }
   ],
   "source": [
    "import random\n",
    " \n",
    "def f(x):\n",
    "\n",
    "    return -x**2 + 4*x \n",
    " \n",
    "def hill_climbing(f, start_point, step_size=0.1, max_iterations=1000):\n",
    "\n",
    "    current_point = start_point\n",
    "\n",
    "    current_value = f(current_point)\n",
    "\n",
    "    for _ in range(max_iterations):\n",
    "\n",
    "        neighbors = [current_point - step_size, current_point + step_size]\n",
    "\n",
    "        neighbor_values = [f(neighbor) for neighbor in neighbors]\n",
    "\n",
    " \n",
    "        best_value = max(neighbor_values)\n",
    "\n",
    "        best_neighbor = neighbors[neighbor_values.index(best_value)]\n",
    "\n",
    " \n",
    "        if best_value > current_value:\n",
    "\n",
    "            current_point = best_neighbor\n",
    "\n",
    "            current_value = best_value\n",
    "\n",
    "        else:\n",
    " \n",
    "            break\n",
    "\n",
    "    return current_point, current_value\n",
    " \n",
    " \n",
    "start_point = random.uniform(0,6)\n",
    " \n",
    " \n",
    "optimal_x, optimal_value = hill_climbing(f, start_point)\n",
    " \n",
    "print(f\"Optimal x: {optimal_x}\")\n",
    "\n",
    "print(f\"Maximum value of f(x): {optimal_value}\")\n",
    "\n"
   ]
  },
  {
   "cell_type": "code",
   "execution_count": 5,
   "id": "f2577abb-8177-4afc-ace8-d36a07826d57",
   "metadata": {},
   "outputs": [
    {
     "name": "stdout",
     "output_type": "stream",
     "text": [
      "Optimal x: 1.9660746837143404\n",
      "Maximum value of f(x): 3.998849072914918\n"
     ]
    }
   ],
   "source": [
    "import random\n",
    " \n",
    "def f(x):\n",
    "\n",
    "    return -x**2 + 4*x \n",
    " \n",
    "def hill_climbing(f, start_point, step_size=0.1, max_iterations=1000):\n",
    "\n",
    "    current_point = start_point\n",
    "\n",
    "    current_value = f(current_point)\n",
    "\n",
    "    for _ in range(max_iterations):\n",
    "\n",
    "        neighbors = [current_point - step_size, current_point + step_size]\n",
    "\n",
    "        neighbor_values = [f(neighbor) for neighbor in neighbors]\n",
    "\n",
    " \n",
    "        best_value = max(neighbor_values)\n",
    "\n",
    "        best_neighbor = neighbors[neighbor_values.index(best_value)]\n",
    "\n",
    " \n",
    "        if best_value > current_value:\n",
    "\n",
    "            current_point = best_neighbor\n",
    "\n",
    "            current_value = best_value\n",
    "\n",
    "        else:\n",
    " \n",
    "            break\n",
    "\n",
    "    return current_point, current_value\n",
    " \n",
    " \n",
    "start_point = random.uniform(0,6)\n",
    " \n",
    " \n",
    "optimal_x, optimal_value = hill_climbing(f, start_point)\n",
    " \n",
    "print(f\"Optimal x: {optimal_x}\")\n",
    "\n",
    "print(f\"Maximum value of f(x): {optimal_value}\")\n"
   ]
  },
  {
   "cell_type": "code",
   "execution_count": null,
   "id": "fb88b953-c6f9-492a-847b-c005e4985127",
   "metadata": {},
   "outputs": [],
   "source": []
  }
 ],
 "metadata": {
  "kernelspec": {
   "display_name": "Python 3 (ipykernel)",
   "language": "python",
   "name": "python3"
  },
  "language_info": {
   "codemirror_mode": {
    "name": "ipython",
    "version": 3
   },
   "file_extension": ".py",
   "mimetype": "text/x-python",
   "name": "python",
   "nbconvert_exporter": "python",
   "pygments_lexer": "ipython3",
   "version": "3.12.7"
  }
 },
 "nbformat": 4,
 "nbformat_minor": 5
}

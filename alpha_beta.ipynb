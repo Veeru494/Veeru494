{
 "cells": [
  {
   "cell_type": "code",
   "execution_count": 76,
   "id": "4a219f3f-5a95-4334-b0dd-616b1feacc6d",
   "metadata": {},
   "outputs": [
    {
     "name": "stdout",
     "output_type": "stream",
     "text": [
      "The optimal value is: 1\n"
     ]
    }
   ],
   "source": [
    "MIN = -1000\n",
    "MAX = 1000\n",
    "def minimax(depth, nodeIndex, maximizingPlayer, values, alpha, beta):\n",
    "    if depth == 3:\n",
    "        return values[nodeIndex]\n",
    "    if maximizingPlayer:\n",
    "        best = MIN\n",
    "        for i in range(0, 2):\n",
    "            val = minimax(depth + 1, nodeIndex * 2 + i, False, values, alpha, beta)\n",
    "            best = max(best, val)\n",
    "            alpha = max(alpha, best)\n",
    "            if beta <= alpha:\n",
    "                break  \n",
    "        return best\n",
    "    else:  \n",
    "        best = MAX\n",
    "        for i in range(0, 2):\n",
    "            val = minimax(depth + 1, nodeIndex * 2 + i, True, values, alpha, beta)\n",
    "            best = min(best, val)\n",
    "            beta = min(beta, best)\n",
    "            if beta <= alpha:\n",
    "                break \n",
    "        return best\n",
    "\n",
    "\n",
    "values = [84,-29,-37,-25,1,-43,-75,49]\n",
    "\n",
    "print(\"The optimal value is:\", minimax(0, 0, True, values, MIN, MAX))\n"
   ]
  },
  {
   "cell_type": "code",
   "execution_count": null,
   "id": "7483fca5-0951-4158-98ac-bcf7c2d2e261",
   "metadata": {},
   "outputs": [],
   "source": []
  }
 ],
 "metadata": {
  "kernelspec": {
   "display_name": "Python 3 (ipykernel)",
   "language": "python",
   "name": "python3"
  },
  "language_info": {
   "codemirror_mode": {
    "name": "ipython",
    "version": 3
   },
   "file_extension": ".py",
   "mimetype": "text/x-python",
   "name": "python",
   "nbconvert_exporter": "python",
   "pygments_lexer": "ipython3",
   "version": "3.12.7"
  }
 },
 "nbformat": 4,
 "nbformat_minor": 5
}
